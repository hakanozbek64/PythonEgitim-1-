{
 "cells": [
  {
   "cell_type": "code",
   "execution_count": 1,
   "metadata": {},
   "outputs": [
    {
     "ename": "IndentationError",
     "evalue": "expected an indented block (<ipython-input-1-7a08cb241ea0>, line 11)",
     "output_type": "error",
     "traceback": [
      "\u001b[1;36m  File \u001b[1;32m\"<ipython-input-1-7a08cb241ea0>\"\u001b[1;36m, line \u001b[1;32m11\u001b[0m\n\u001b[1;33m    print(\"gecersiz işlem\")\u001b[0m\n\u001b[1;37m        ^\u001b[0m\n\u001b[1;31mIndentationError\u001b[0m\u001b[1;31m:\u001b[0m expected an indented block\n"
     ]
    }
   ],
   "source": [
    "işlem=input(\"işlem giriniz.\")\n",
    "\n",
    "if işlem==\"1\":\n",
    " print(\"işlem 1 seçildi.\")\n",
    "elif işlem==\"2\":\n",
    "    print(\"işlem 2 seçildi.\")\n",
    "elif işlem==\"3\":\n",
    "     print(\"işlem 1 seçildi.\")\n",
    "else:\n",
    "    \n",
    "print(\"gecersiz işlem\")\n"
   ]
  },
  {
   "cell_type": "code",
   "execution_count": 2,
   "metadata": {},
   "outputs": [
    {
     "name": "stdout",
     "output_type": "stream",
     "text": [
      "işlem giriniz.1\n",
      "işlem 1 seçildi.\n"
     ]
    }
   ],
   "source": [
    "işlem=input(\"işlem giriniz.\")\n",
    "\n",
    "if işlem ==\"1\":\n",
    "    print(\"işlem 1 seçildi.\")\n",
    "elif işlem ==\"2\":\n",
    "    print(\"işlem 2 seçildi.\")\n",
    "elif işlem ==\"3\":\n",
    "    print(\"işlem 1 seçildi.\")\n",
    "else:\n",
    "    print(\"gecersiz işlem\")\n"
   ]
  },
  {
   "cell_type": "code",
   "execution_count": 3,
   "metadata": {},
   "outputs": [
    {
     "name": "stdout",
     "output_type": "stream",
     "text": [
      "işlem giriniz.6\n",
      "gecersiz işlem\n"
     ]
    }
   ],
   "source": [
    "işlem=input(\"işlem giriniz.\")\n",
    "\n",
    "if işlem ==\"1\":\n",
    "    print(\"işlem 1 seçildi.\")\n",
    "elif işlem ==\"2\":\n",
    "    print(\"işlem 2 seçildi.\")\n",
    "elif işlem ==\"3\":\n",
    "    print(\"işlem 1 seçildi.\")\n",
    "else:\n",
    "    print(\"gecersiz işlem\")"
   ]
  },
  {
   "cell_type": "code",
   "execution_count": 4,
   "metadata": {},
   "outputs": [
    {
     "ename": "SyntaxError",
     "evalue": "invalid syntax (<ipython-input-4-40a8b14951a9>, line 17)",
     "output_type": "error",
     "traceback": [
      "\u001b[1;36m  File \u001b[1;32m\"<ipython-input-4-40a8b14951a9>\"\u001b[1;36m, line \u001b[1;32m17\u001b[0m\n\u001b[1;33m    else\u001b[0m\n\u001b[1;37m        ^\u001b[0m\n\u001b[1;31mSyntaxError\u001b[0m\u001b[1;31m:\u001b[0m invalid syntax\n"
     ]
    }
   ],
   "source": [
    "#not hesaplama#\n",
    "\n",
    "note=float(input(\"Notunuzu Giriniz:\"))\n",
    "\n",
    "if(note>=90):\n",
    "    print(\"Notunuz:AA\")\n",
    "elif(note>=85):\n",
    "    print(\"Notunuz:BA\")\n",
    "elif(note>=90):\n",
    "    print(\"Notunuz:BB\")\n",
    "elif(note>=90):\n",
    "    print(\"Notunuz:BC\")\n",
    "elif(note>=90):\n",
    "    print(\"Notunuz:CC\")\n",
    "elif(note>=90):\n",
    "    print(\"Notunuz:CD\")\n",
    "else\n",
    "    print(\"Kaldınız..\")\n"
   ]
  },
  {
   "cell_type": "code",
   "execution_count": 5,
   "metadata": {},
   "outputs": [
    {
     "ename": "SyntaxError",
     "evalue": "invalid syntax (<ipython-input-5-48cc1996b529>, line 15)",
     "output_type": "error",
     "traceback": [
      "\u001b[1;36m  File \u001b[1;32m\"<ipython-input-5-48cc1996b529>\"\u001b[1;36m, line \u001b[1;32m15\u001b[0m\n\u001b[1;33m    else\u001b[0m\n\u001b[1;37m        ^\u001b[0m\n\u001b[1;31mSyntaxError\u001b[0m\u001b[1;31m:\u001b[0m invalid syntax\n"
     ]
    }
   ],
   "source": [
    "\n",
    "note=float(input(\"Notunuzu Giriniz:\"))\n",
    "\n",
    "if(note>=90):\n",
    "    print(\"Notunuz:AA\")\n",
    "elif(note>=85):\n",
    "    print(\"Notunuz:BA\")\n",
    "elif(note>=90):\n",
    "    print(\"Notunuz:BB\")\n",
    "elif(note>=90):\n",
    "    print(\"Notunuz:BC\")\n",
    "elif(note>=90):\n",
    "    print(\"Notunuz:CC\")\n",
    "elif(note>=90):\n",
    "    print(\"Notunuz:CD\")\n",
    "else\n",
    "    print(\"Kaldınız..\")"
   ]
  },
  {
   "cell_type": "code",
   "execution_count": 6,
   "metadata": {},
   "outputs": [
    {
     "name": "stdout",
     "output_type": "stream",
     "text": [
      "Notunuzu Giriniz:70\n",
      "Kaldınız..\n"
     ]
    }
   ],
   "source": [
    "#not hesaplama#\n",
    "\n",
    "note=float(input(\"Notunuzu Giriniz:\"))\n",
    "\n",
    "if(note >= 90):\n",
    "    print(\"Notunuz:AA\")\n",
    "elif( note>= 85):\n",
    "    print(\"Notunuz:BA\")\n",
    "elif(note >= 90):\n",
    "    print(\"Notunuz:BB\")\n",
    "elif(note >= 90):\n",
    "    print(\"Notunuz:BC\")\n",
    "elif(note >= 90):\n",
    "    print(\"Notunuz:CC\")\n",
    "elif(note >= 90):\n",
    "    print(\"Notunuz:CD\")\n",
    "else:\n",
    "    print(\"Kaldınız..\")"
   ]
  },
  {
   "cell_type": "code",
   "execution_count": 7,
   "metadata": {},
   "outputs": [
    {
     "name": "stdout",
     "output_type": "stream",
     "text": [
      "Notunuzu Giriniz:70\n",
      "Notunuz:CC\n"
     ]
    }
   ],
   "source": [
    "#not hesaplama#\n",
    "\n",
    "note=float(input(\"Notunuzu Giriniz:\"))\n",
    "\n",
    "if(note >= 90):\n",
    "    print(\"Notunuz:AA\")\n",
    "elif( note>= 85):\n",
    "    print(\"Notunuz:BA\")\n",
    "elif(note >= 80):\n",
    "    print(\"Notunuz:BB\")\n",
    "elif(note >= 75):\n",
    "    print(\"Notunuz:BC\")\n",
    "elif(note >= 70 ):\n",
    "    print(\"Notunuz:CC\")\n",
    "elif(note >= 60):\n",
    "    print(\"Notunuz:CD\")\n",
    "else:\n",
    "    print(\"Kaldınız..\")"
   ]
  },
  {
   "cell_type": "code",
   "execution_count": 8,
   "metadata": {},
   "outputs": [
    {
     "name": "stdout",
     "output_type": "stream",
     "text": [
      "Notunuzu Giriniz:55\n",
      "Kaldınız..\n"
     ]
    }
   ],
   "source": [
    "#not hesaplama#\n",
    "\n",
    "note=float(input(\"Notunuzu Giriniz:\"))\n",
    "\n",
    "if(note >= 90):\n",
    "    print(\"Notunuz:AA\")\n",
    "elif( note>= 85):\n",
    "    print(\"Notunuz:BA\")\n",
    "elif(note >= 80):\n",
    "    print(\"Notunuz:BB\")\n",
    "elif(note >= 75):\n",
    "    print(\"Notunuz:BC\")\n",
    "elif(note >= 70 ):\n",
    "    print(\"Notunuz:CC\")\n",
    "elif(note >= 60):\n",
    "    print(\"Notunuz:CD\")\n",
    "else:\n",
    "    print(\"Kaldınız..\")"
   ]
  },
  {
   "cell_type": "code",
   "execution_count": null,
   "metadata": {},
   "outputs": [],
   "source": []
  }
 ],
 "metadata": {
  "kernelspec": {
   "display_name": "Python 3",
   "language": "python",
   "name": "python3"
  },
  "language_info": {
   "codemirror_mode": {
    "name": "ipython",
    "version": 3
   },
   "file_extension": ".py",
   "mimetype": "text/x-python",
   "name": "python",
   "nbconvert_exporter": "python",
   "pygments_lexer": "ipython3",
   "version": "3.7.3"
  }
 },
 "nbformat": 4,
 "nbformat_minor": 2
}
