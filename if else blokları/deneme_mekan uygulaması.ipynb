{
 "cells": [
  {
   "cell_type": "code",
   "execution_count": 1,
   "metadata": {},
   "outputs": [
    {
     "name": "stdout",
     "output_type": "stream",
     "text": [
      "yaşınızı giriniz:15\n",
      "mekana giremezsiniz!\n"
     ]
    }
   ],
   "source": [
    "yaş=int(input(\"yaşınızı giriniz:\"))\n",
    "\n",
    "if yaş < 18:\n",
    "    print(\"mekana giremezsiniz!\")"
   ]
  },
  {
   "cell_type": "code",
   "execution_count": 2,
   "metadata": {},
   "outputs": [
    {
     "ename": "SyntaxError",
     "evalue": "invalid syntax (<ipython-input-2-afde024af030>, line 5)",
     "output_type": "error",
     "traceback": [
      "\u001b[1;36m  File \u001b[1;32m\"<ipython-input-2-afde024af030>\"\u001b[1;36m, line \u001b[1;32m5\u001b[0m\n\u001b[1;33m    else:\u001b[0m\n\u001b[1;37m       ^\u001b[0m\n\u001b[1;31mSyntaxError\u001b[0m\u001b[1;31m:\u001b[0m invalid syntax\n"
     ]
    }
   ],
   "source": [
    "yaş=int(input(\"Yaşınızı Giriniz:\"))\n",
    "\n",
    "if yaş < 18:\n",
    "    print(\"Mekana Giremezsiniz!..\")\n",
    "    else:\n",
    "        print(\"MekanaHoşgeldiniz...\")"
   ]
  },
  {
   "cell_type": "code",
   "execution_count": 3,
   "metadata": {},
   "outputs": [
    {
     "name": "stdout",
     "output_type": "stream",
     "text": [
      "Yaşınızı Giriniz:16\n",
      "Mekana Giremezsiniz!..\n"
     ]
    }
   ],
   "source": [
    "yaş=int(input(\"Yaşınızı Giriniz:\"))\n",
    "\n",
    "if yaş < 18:\n",
    "    print(\"Mekana Giremezsiniz!..\")\n",
    "else:\n",
    "        print(\"Mekana Hoşgeldiniz...\")"
   ]
  },
  {
   "cell_type": "code",
   "execution_count": 4,
   "metadata": {},
   "outputs": [
    {
     "name": "stdout",
     "output_type": "stream",
     "text": [
      "Yaşınızı Giriniz:20\n",
      "MekanaHoşgeldiniz...\n"
     ]
    }
   ],
   "source": [
    "yaş=int(input(\"Yaşınızı Giriniz:\"))\n",
    "\n",
    "if yaş < 18:\n",
    "    print(\"Mekana Giremezsiniz!..\")\n",
    "else:\n",
    "        print(\"Mekana Hoşgeldiniz...\")"
   ]
  },
  {
   "cell_type": "code",
   "execution_count": null,
   "metadata": {},
   "outputs": [],
   "source": []
  }
 ],
 "metadata": {
  "kernelspec": {
   "display_name": "Python 3",
   "language": "python",
   "name": "python3"
  },
  "language_info": {
   "codemirror_mode": {
    "name": "ipython",
    "version": 3
   },
   "file_extension": ".py",
   "mimetype": "text/x-python",
   "name": "python",
   "nbconvert_exporter": "python",
   "pygments_lexer": "ipython3",
   "version": "3.7.3"
  }
 },
 "nbformat": 4,
 "nbformat_minor": 2
}
