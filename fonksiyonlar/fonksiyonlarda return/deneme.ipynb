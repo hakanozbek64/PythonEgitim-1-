{
 "cells": [
  {
   "cell_type": "code",
   "execution_count": 3,
   "metadata": {},
   "outputs": [
    {
     "name": "stdout",
     "output_type": "stream",
     "text": [
      "22\n"
     ]
    }
   ],
   "source": [
    "def toplama (a,b,c):\n",
    "    return a+b+c\n",
    "def ikiylecarp(a):\n",
    "    return a*2\n",
    "toplam=toplama(2,4,5)\n",
    "print(ikiylecarp(toplam))"
   ]
  },
  {
   "cell_type": "code",
   "execution_count": 4,
   "metadata": {},
   "outputs": [],
   "source": [
    "def üçleçarp(a):\n",
    "    print(\"1.fonksiyon çalıştı\")\n",
    "    return a*3"
   ]
  },
  {
   "cell_type": "code",
   "execution_count": 5,
   "metadata": {},
   "outputs": [],
   "source": [
    "def ikiyletopla(a):\n",
    "    print(\"2.fonksiyon çalıştı\")\n",
    "    return a + 2"
   ]
  },
  {
   "cell_type": "code",
   "execution_count": 6,
   "metadata": {},
   "outputs": [],
   "source": [
    "def dördeböl(a):\n",
    "    print(\"3.fonksiyon çalıştı\")\n",
    "    return a / 4"
   ]
  },
  {
   "cell_type": "code",
   "execution_count": 7,
   "metadata": {},
   "outputs": [
    {
     "name": "stdout",
     "output_type": "stream",
     "text": [
      "1.fonksiyon çalıştı\n",
      "2.fonksiyon çalıştı\n",
      "3.fonksiyon çalıştı\n",
      "4.25\n"
     ]
    }
   ],
   "source": [
    "print(dördeböl(ikiyletopla(üçleçarp(5))))"
   ]
  },
  {
   "cell_type": "code",
   "execution_count": 9,
   "metadata": {},
   "outputs": [
    {
     "name": "stdout",
     "output_type": "stream",
     "text": [
      "16\n"
     ]
    }
   ],
   "source": [
    "def toplama(a,b,c):\n",
    "    return a + b + c\n",
    "    print(\"Toplama fonksiyonu\") # Çalıştırılmadı.\n",
    "\n",
    "print(toplama(3,5,8))"
   ]
  },
  {
   "cell_type": "code",
   "execution_count": 10,
   "metadata": {},
   "outputs": [
    {
     "name": "stdout",
     "output_type": "stream",
     "text": [
      "Toplama fonksiyonu\n",
      "16\n"
     ]
    }
   ],
   "source": [
    "def toplama(a,b,c):\n",
    "    print(\"Toplama fonksiyonu\") \n",
    "    return a + b + c\n",
    "print(toplama(3,5,8))"
   ]
  },
  {
   "cell_type": "code",
   "execution_count": null,
   "metadata": {},
   "outputs": [],
   "source": []
  }
 ],
 "metadata": {
  "kernelspec": {
   "display_name": "Python 3",
   "language": "python",
   "name": "python3"
  },
  "language_info": {
   "codemirror_mode": {
    "name": "ipython",
    "version": 3
   },
   "file_extension": ".py",
   "mimetype": "text/x-python",
   "name": "python",
   "nbconvert_exporter": "python",
   "pygments_lexer": "ipython3",
   "version": "3.7.3"
  }
 },
 "nbformat": 4,
 "nbformat_minor": 2
}
