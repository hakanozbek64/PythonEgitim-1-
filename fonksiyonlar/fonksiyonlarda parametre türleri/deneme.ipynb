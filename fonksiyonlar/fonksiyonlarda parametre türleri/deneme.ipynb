{
 "cells": [
  {
   "cell_type": "code",
   "execution_count": 2,
   "metadata": {},
   "outputs": [
    {
     "name": "stdout",
     "output_type": "stream",
     "text": [
      "selam isimsiz\n"
     ]
    }
   ],
   "source": [
    "#varsayılan deger atamak istersek#\n",
    "def selamla(isim=\"isimsiz\"):\n",
    "    print(\"selam\",isim)\n",
    "    \n",
    "selamla()"
   ]
  },
  {
   "cell_type": "code",
   "execution_count": 4,
   "metadata": {},
   "outputs": [
    {
     "name": "stdout",
     "output_type": "stream",
     "text": [
      "selam murat\n"
     ]
    }
   ],
   "source": [
    "selamla(\"murat\")"
   ]
  },
  {
   "cell_type": "code",
   "execution_count": 5,
   "metadata": {},
   "outputs": [],
   "source": [
    "def bilgilerigöster(ad,soyad,numara):\n",
    "    print(\"ad:\",ad,\"soyadı:\",soyad,\"numarası:\",numara)"
   ]
  },
  {
   "cell_type": "code",
   "execution_count": 6,
   "metadata": {},
   "outputs": [
    {
     "name": "stdout",
     "output_type": "stream",
     "text": [
      "ad: hakan soyadı: özbek numarası: 632\n"
     ]
    }
   ],
   "source": [
    "bilgilerigöster(\"hakan\",\"özbek\",\"632\")"
   ]
  },
  {
   "cell_type": "code",
   "execution_count": 7,
   "metadata": {},
   "outputs": [],
   "source": [
    "#varsayılan deger atamak istersek yani ad soyad yada numara girilmemişse..#\n",
    "def bilgilerigöster(ad=\"bilgi yok\",soyad=\"bilgi yok\",numara=\"bilgi yok\"):\n",
    "    print(\"ad:\",ad,\"soyadı:\",soyad,\"numarası:\",numara)\n"
   ]
  },
  {
   "cell_type": "code",
   "execution_count": 8,
   "metadata": {},
   "outputs": [
    {
     "name": "stdout",
     "output_type": "stream",
     "text": [
      "ad: bilgi yok soyadı: bilgi yok numarası: bilgi yok\n"
     ]
    }
   ],
   "source": [
    "bilgilerigöster()"
   ]
  },
  {
   "cell_type": "code",
   "execution_count": 9,
   "metadata": {},
   "outputs": [
    {
     "name": "stdout",
     "output_type": "stream",
     "text": [
      "ad: hakan soyadı: özbek numarası: bilgi yok\n"
     ]
    }
   ],
   "source": [
    "bilgilerigöster(\"hakan\",\"özbek\")"
   ]
  },
  {
   "cell_type": "code",
   "execution_count": 10,
   "metadata": {},
   "outputs": [
    {
     "name": "stdout",
     "output_type": "stream",
     "text": [
      "ad: bilgi yok soyadı: bilgi yok numarası: 12345\n"
     ]
    }
   ],
   "source": [
    "bilgilerigöster(numara=\"12345\")"
   ]
  },
  {
   "cell_type": "code",
   "execution_count": 11,
   "metadata": {},
   "outputs": [
    {
     "name": "stdout",
     "output_type": "stream",
     "text": [
      "hakan özbek izmir\n"
     ]
    }
   ],
   "source": [
    "print(\"hakan\",\"özbek\",\"izmir\")\n"
   ]
  },
  {
   "cell_type": "code",
   "execution_count": 14,
   "metadata": {},
   "outputs": [
    {
     "name": "stdout",
     "output_type": "stream",
     "text": [
      "hakan/özbek/izmir\n"
     ]
    }
   ],
   "source": [
    "print(\"hakan\",\"özbek\",\"izmir\",sep =\"/\")"
   ]
  },
  {
   "cell_type": "code",
   "execution_count": 16,
   "metadata": {},
   "outputs": [
    {
     "name": "stdout",
     "output_type": "stream",
     "text": [
      "6\n"
     ]
    }
   ],
   "source": [
    "#esnek sayıda degerler#\n",
    "\n",
    "def toplama(a,b,c):\n",
    "    print(a+b+c)\n",
    "toplama(1,2,3)"
   ]
  },
  {
   "cell_type": "code",
   "execution_count": 18,
   "metadata": {},
   "outputs": [
    {
     "name": "stdout",
     "output_type": "stream",
     "text": [
      "(3, 5, 8)\n"
     ]
    }
   ],
   "source": [
    "def toplama(*a):\n",
    "    print(a)\n",
    "toplama(3,5,8)"
   ]
  },
  {
   "cell_type": "code",
   "execution_count": 19,
   "metadata": {},
   "outputs": [
    {
     "name": "stdout",
     "output_type": "stream",
     "text": [
      "6\n"
     ]
    }
   ],
   "source": [
    "def toplam(*a):\n",
    "    toplam=0\n",
    "    for i in a:\n",
    "        toplam+=i\n",
    "    print(toplam)\n",
    "toplam(1,2,3)"
   ]
  },
  {
   "cell_type": "code",
   "execution_count": 20,
   "metadata": {},
   "outputs": [
    {
     "name": "stdout",
     "output_type": "stream",
     "text": [
      "89\n"
     ]
    }
   ],
   "source": [
    "toplam(4,5,8,12,60)"
   ]
  },
  {
   "cell_type": "code",
   "execution_count": null,
   "metadata": {},
   "outputs": [],
   "source": []
  }
 ],
 "metadata": {
  "kernelspec": {
   "display_name": "Python 3",
   "language": "python",
   "name": "python3"
  },
  "language_info": {
   "codemirror_mode": {
    "name": "ipython",
    "version": 3
   },
   "file_extension": ".py",
   "mimetype": "text/x-python",
   "name": "python",
   "nbconvert_exporter": "python",
   "pygments_lexer": "ipython3",
   "version": "3.7.3"
  }
 },
 "nbformat": 4,
 "nbformat_minor": 2
}
