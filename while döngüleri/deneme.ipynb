{
 "cells": [
  {
   "cell_type": "code",
   "execution_count": 1,
   "metadata": {},
   "outputs": [
    {
     "name": "stdout",
     "output_type": "stream",
     "text": [
      "i'ni degeri: 0\n",
      "i'ni degeri: 1\n",
      "i'ni degeri: 2\n",
      "i'ni degeri: 3\n",
      "i'ni degeri: 4\n",
      "i'ni degeri: 5\n",
      "i'ni degeri: 6\n",
      "i'ni degeri: 7\n",
      "i'ni degeri: 8\n",
      "i'ni degeri: 9\n"
     ]
    }
   ],
   "source": [
    "#while döngüsü ile i degerini ekrana yazdırma  #\n",
    "i=0\n",
    "while (i<10):\n",
    "    print(\"i'ni degeri:\",i)\n",
    "    i+=1=0\n"
   ]
  },
  {
   "cell_type": "code",
   "execution_count": 2,
   "metadata": {},
   "outputs": [
    {
     "name": "stdout",
     "output_type": "stream",
     "text": [
      "python ögreniyorum...: 0\n",
      "python ögreniyorum...: 1\n",
      "python ögreniyorum...: 2\n",
      "python ögreniyorum...: 3\n",
      "python ögreniyorum...: 4\n",
      "python ögreniyorum...: 5\n",
      "python ögreniyorum...: 6\n",
      "python ögreniyorum...: 7\n",
      "python ögreniyorum...: 8\n",
      "python ögreniyorum...: 9\n"
     ]
    }
   ],
   "source": [
    "#while döngüsü ile 40 defa python ögreniyorum yazdıralım #\n",
    "a=0\n",
    "while (a<10):\n",
    "    print(\"python ögreniyorum...:\",a)\n",
    "    a+=1"
   ]
  },
  {
   "cell_type": "code",
   "execution_count": 3,
   "metadata": {},
   "outputs": [
    {
     "name": "stdout",
     "output_type": "stream",
     "text": [
      "python ögreniyorum...: 0\n",
      "python ögreniyorum...: 1\n",
      "python ögreniyorum...: 2\n",
      "python ögreniyorum...: 3\n",
      "python ögreniyorum...: 4\n",
      "python ögreniyorum...: 5\n",
      "python ögreniyorum...: 6\n",
      "python ögreniyorum...: 7\n",
      "python ögreniyorum...: 8\n",
      "python ögreniyorum...: 9\n",
      "python ögreniyorum...: 10\n",
      "python ögreniyorum...: 11\n",
      "python ögreniyorum...: 12\n",
      "python ögreniyorum...: 13\n",
      "python ögreniyorum...: 14\n",
      "python ögreniyorum...: 15\n",
      "python ögreniyorum...: 16\n",
      "python ögreniyorum...: 17\n",
      "python ögreniyorum...: 18\n",
      "python ögreniyorum...: 19\n",
      "python ögreniyorum...: 20\n",
      "python ögreniyorum...: 21\n",
      "python ögreniyorum...: 22\n",
      "python ögreniyorum...: 23\n",
      "python ögreniyorum...: 24\n",
      "python ögreniyorum...: 25\n",
      "python ögreniyorum...: 26\n",
      "python ögreniyorum...: 27\n",
      "python ögreniyorum...: 28\n",
      "python ögreniyorum...: 29\n",
      "python ögreniyorum...: 30\n",
      "python ögreniyorum...: 31\n",
      "python ögreniyorum...: 32\n",
      "python ögreniyorum...: 33\n",
      "python ögreniyorum...: 34\n",
      "python ögreniyorum...: 35\n",
      "python ögreniyorum...: 36\n",
      "python ögreniyorum...: 37\n",
      "python ögreniyorum...: 38\n",
      "python ögreniyorum...: 39\n"
     ]
    }
   ],
   "source": [
    "#while döngüsü ile 40 defa python ögreniyorum yazdıralım #\n",
    "a=0\n",
    "while (a<40):\n",
    "    print(\"python ögreniyorum...:\",a)\n",
    "    a+=1"
   ]
  },
  {
   "cell_type": "code",
   "execution_count": 4,
   "metadata": {},
   "outputs": [
    {
     "ename": "IndentationError",
     "evalue": "unexpected indent (<ipython-input-4-eaa995111f77>, line 4)",
     "output_type": "error",
     "traceback": [
      "\u001b[1;36m  File \u001b[1;32m\"<ipython-input-4-eaa995111f77>\"\u001b[1;36m, line \u001b[1;32m4\u001b[0m\n\u001b[1;33m    for i in liste :\u001b[0m\n\u001b[1;37m    ^\u001b[0m\n\u001b[1;31mIndentationError\u001b[0m\u001b[1;31m:\u001b[0m unexpected indent\n"
     ]
    }
   ],
   "source": [
    "#deneme while döngisü#\n",
    "\n",
    "liste=[1,2,3,4]\n",
    " for i in liste :\n",
    "        print(i)"
   ]
  },
  {
   "cell_type": "code",
   "execution_count": 5,
   "metadata": {},
   "outputs": [
    {
     "name": "stdout",
     "output_type": "stream",
     "text": [
      "1\n",
      "2\n",
      "3\n",
      "4\n"
     ]
    }
   ],
   "source": [
    "liste=[1,2,3,4]\n",
    "for i in liste :\n",
    "    print(i)"
   ]
  },
  {
   "cell_type": "code",
   "execution_count": 6,
   "metadata": {},
   "outputs": [
    {
     "ename": "SyntaxError",
     "evalue": "invalid syntax (<ipython-input-6-9faaa4d38280>, line 5)",
     "output_type": "error",
     "traceback": [
      "\u001b[1;36m  File \u001b[1;32m\"<ipython-input-6-9faaa4d38280>\"\u001b[1;36m, line \u001b[1;32m5\u001b[0m\n\u001b[1;33m    while (index <len(liste):\u001b[0m\n\u001b[1;37m                            ^\u001b[0m\n\u001b[1;31mSyntaxError\u001b[0m\u001b[1;31m:\u001b[0m invalid syntax\n"
     ]
    }
   ],
   "source": [
    "#aynı şeyi while döngüsü ile yapmaya calışalım.#\n",
    "\n",
    "index=0\n",
    "\n",
    "while (index <len(liste):\n",
    "    print(\"index:\",index,\"liste elemanı :\",liste[index])\n",
    "     i+=1\n",
    "\n",
    "\n"
   ]
  },
  {
   "cell_type": "code",
   "execution_count": 7,
   "metadata": {},
   "outputs": [
    {
     "ename": "SyntaxError",
     "evalue": "invalid syntax (<ipython-input-7-dbdaa9644d06>, line 5)",
     "output_type": "error",
     "traceback": [
      "\u001b[1;36m  File \u001b[1;32m\"<ipython-input-7-dbdaa9644d06>\"\u001b[1;36m, line \u001b[1;32m5\u001b[0m\n\u001b[1;33m    while (index < len(liste):\u001b[0m\n\u001b[1;37m                             ^\u001b[0m\n\u001b[1;31mSyntaxError\u001b[0m\u001b[1;31m:\u001b[0m invalid syntax\n"
     ]
    }
   ],
   "source": [
    "#aynı şeyi while döngüsü ile yapmaya calışalım.#\n",
    "\n",
    "index=0\n",
    "\n",
    "while (index < len(liste):\n",
    "    print(\"index:\",index,\"liste elemanı :\",liste[index])\n",
    "     index+=1\n"
   ]
  },
  {
   "cell_type": "code",
   "execution_count": 8,
   "metadata": {},
   "outputs": [
    {
     "ename": "IndentationError",
     "evalue": "unexpected indent (<ipython-input-8-6cfcec7ae905>, line 5)",
     "output_type": "error",
     "traceback": [
      "\u001b[1;36m  File \u001b[1;32m\"<ipython-input-8-6cfcec7ae905>\"\u001b[1;36m, line \u001b[1;32m5\u001b[0m\n\u001b[1;33m    index+=1\u001b[0m\n\u001b[1;37m    ^\u001b[0m\n\u001b[1;31mIndentationError\u001b[0m\u001b[1;31m:\u001b[0m unexpected indent\n"
     ]
    }
   ],
   "source": [
    "index=0\n",
    "\n",
    "while (index < len(liste)):\n",
    "    print(\"index:\",index,\"liste elemanı :\",liste[index])\n",
    "     index+=1"
   ]
  },
  {
   "cell_type": "code",
   "execution_count": 9,
   "metadata": {},
   "outputs": [
    {
     "name": "stdout",
     "output_type": "stream",
     "text": [
      "index: 0 liste elemanı : 1\n",
      "index: 1 liste elemanı : 2\n",
      "index: 2 liste elemanı : 3\n",
      "index: 3 liste elemanı : 4\n"
     ]
    }
   ],
   "source": [
    "index=0\n",
    "\n",
    "while (index < len(liste)):\n",
    "    print(\"index:\",index,\"liste elemanı :\",liste[index])\n",
    "    index +=1"
   ]
  },
  {
   "cell_type": "code",
   "execution_count": null,
   "metadata": {},
   "outputs": [],
   "source": []
  }
 ],
 "metadata": {
  "kernelspec": {
   "display_name": "Python 3",
   "language": "python",
   "name": "python3"
  },
  "language_info": {
   "codemirror_mode": {
    "name": "ipython",
    "version": 3
   },
   "file_extension": ".py",
   "mimetype": "text/x-python",
   "name": "python",
   "nbconvert_exporter": "python",
   "pygments_lexer": "ipython3",
   "version": "3.7.3"
  }
 },
 "nbformat": 4,
 "nbformat_minor": 2
}
