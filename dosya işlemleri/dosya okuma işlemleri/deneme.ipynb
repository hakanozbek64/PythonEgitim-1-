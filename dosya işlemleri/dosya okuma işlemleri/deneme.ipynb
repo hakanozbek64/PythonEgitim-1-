{
 "cells": [
  {
   "cell_type": "code",
   "execution_count": 14,
   "metadata": {},
   "outputs": [],
   "source": [
    "file=open(\"bilgilerim.txt\",\"r\")"
   ]
  },
  {
   "cell_type": "code",
   "execution_count": 15,
   "metadata": {},
   "outputs": [],
   "source": [
    "file.close()"
   ]
  },
  {
   "cell_type": "code",
   "execution_count": 16,
   "metadata": {},
   "outputs": [
    {
     "ename": "FileNotFoundError",
     "evalue": "[Errno 2] No such file or directory: 'bilgiler.txt'",
     "output_type": "error",
     "traceback": [
      "\u001b[1;31m---------------------------------------------------------------------------\u001b[0m",
      "\u001b[1;31mFileNotFoundError\u001b[0m                         Traceback (most recent call last)",
      "\u001b[1;32m<ipython-input-16-e1e15afa4d49>\u001b[0m in \u001b[0;36m<module>\u001b[1;34m\u001b[0m\n\u001b[1;32m----> 1\u001b[1;33m \u001b[0mfile\u001b[0m\u001b[1;33m=\u001b[0m\u001b[0mopen\u001b[0m\u001b[1;33m(\u001b[0m\u001b[1;34m\"bilgiler.txt\"\u001b[0m\u001b[1;33m,\u001b[0m\u001b[1;34m\"r\"\u001b[0m\u001b[1;33m)\u001b[0m\u001b[1;33m\u001b[0m\u001b[1;33m\u001b[0m\u001b[0m\n\u001b[0m",
      "\u001b[1;31mFileNotFoundError\u001b[0m: [Errno 2] No such file or directory: 'bilgiler.txt'"
     ]
    }
   ],
   "source": [
    "file=open(\"bilgiler.txt\",\"r\")"
   ]
  },
  {
   "cell_type": "code",
   "execution_count": 17,
   "metadata": {},
   "outputs": [
    {
     "name": "stdout",
     "output_type": "stream",
     "text": [
      "dosya bulunamadı..\n"
     ]
    }
   ],
   "source": [
    "try:\n",
    "    file=open(\"bilgiler.txt\",\"r\")\n",
    "    \n",
    "except FileNotFoundError:\n",
    "    print(\"dosya bulunamadı..\")"
   ]
  },
  {
   "cell_type": "code",
   "execution_count": 20,
   "metadata": {},
   "outputs": [
    {
     "name": "stdout",
     "output_type": "stream",
     "text": [
      " hakan\n",
      "\n",
      "özbek\n",
      "\n",
      "ankara\n",
      "\n",
      "uşak\n",
      "\n",
      "elektrik elektronik mühendisi\n"
     ]
    }
   ],
   "source": [
    "file =open(\"bilgilerim.txt\",\"r\")\n",
    "\n",
    "for i in file:\n",
    "    print(i)\n",
    "file.close()"
   ]
  },
  {
   "cell_type": "code",
   "execution_count": 21,
   "metadata": {},
   "outputs": [
    {
     "name": "stdout",
     "output_type": "stream",
     "text": [
      " hakan\n",
      "özbek\n",
      "ankara\n",
      "uşak\n",
      "elektrik elektronik mühendisi"
     ]
    }
   ],
   "source": [
    "file =open(\"bilgilerim.txt\",\"r\")\n",
    "\n",
    "for i in file:\n",
    "    print(i,end=\"\")\n",
    "file.close()"
   ]
  },
  {
   "cell_type": "code",
   "execution_count": 22,
   "metadata": {},
   "outputs": [
    {
     "name": "stdout",
     "output_type": "stream",
     "text": [
      "dosyanın içerigi\n",
      " hakan\n",
      "özbek\n",
      "ankara\n",
      "uşak\n",
      "elektrik elektronik mühendisi\n"
     ]
    }
   ],
   "source": [
    "file =open(\"bilgilerim.txt\",\"r\")\n",
    "\n",
    "içerik=file.read()\n",
    "\n",
    "print(\"dosyanın içerigi\")\n",
    "print(içerik)"
   ]
  },
  {
   "cell_type": "code",
   "execution_count": 23,
   "metadata": {},
   "outputs": [
    {
     "name": "stdout",
     "output_type": "stream",
     "text": [
      "dosyanın içerigi\n",
      " hakan\n",
      "özbek\n",
      "ankara\n",
      "uşak\n",
      "elektrik elektronik mühendisi\n",
      "dosyanın 2'nin içerigi\n",
      "\n"
     ]
    }
   ],
   "source": [
    "file =open(\"bilgilerim.txt\",\"r\")\n",
    "\n",
    "içerik=file.read()\n",
    "\n",
    "print(\"dosyanın içerigi\")\n",
    "print(içerik)\n",
    "\n",
    "print(\"dosyanın 2'nin içerigi\")\n",
    "\n",
    "içerik2=file.read()\n",
    "\n",
    "print(içerik2)"
   ]
  },
  {
   "cell_type": "code",
   "execution_count": 24,
   "metadata": {},
   "outputs": [
    {
     "name": "stdout",
     "output_type": "stream",
     "text": [
      " hakan\n",
      "\n"
     ]
    }
   ],
   "source": [
    "file =open(\"bilgilerim.txt\",\"r\")\n",
    "print(file.readline())\n",
    "file.close()"
   ]
  },
  {
   "cell_type": "code",
   "execution_count": 25,
   "metadata": {},
   "outputs": [
    {
     "name": "stdout",
     "output_type": "stream",
     "text": [
      " hakan\n",
      "\n",
      "özbek\n",
      "\n",
      "ankara\n",
      "\n",
      "uşak\n",
      "\n"
     ]
    }
   ],
   "source": [
    "file =open(\"bilgilerim.txt\",\"r\")\n",
    "print(file.readline())\n",
    "print(file.readline())\n",
    "print(file.readline())\n",
    "print(file.readline())\n",
    "file.close()"
   ]
  },
  {
   "cell_type": "code",
   "execution_count": 26,
   "metadata": {},
   "outputs": [
    {
     "name": "stdout",
     "output_type": "stream",
     "text": [
      "[' hakan\\n', 'özbek\\n', 'ankara\\n', 'uşak\\n', 'elektrik elektronik mühendisi']\n"
     ]
    }
   ],
   "source": [
    "file =open(\"bilgilerim.txt\",\"r\")\n",
    "\n",
    "liste=file.readlines()\n",
    "print(liste)\n",
    "file.close()"
   ]
  },
  {
   "cell_type": "code",
   "execution_count": null,
   "metadata": {},
   "outputs": [],
   "source": []
  }
 ],
 "metadata": {
  "kernelspec": {
   "display_name": "Python 3",
   "language": "python",
   "name": "python3"
  },
  "language_info": {
   "codemirror_mode": {
    "name": "ipython",
    "version": 3
   },
   "file_extension": ".py",
   "mimetype": "text/x-python",
   "name": "python",
   "nbconvert_exporter": "python",
   "pygments_lexer": "ipython3",
   "version": "3.7.3"
  }
 },
 "nbformat": 4,
 "nbformat_minor": 2
}
