{
 "cells": [
  {
   "cell_type": "code",
   "execution_count": 2,
   "metadata": {},
   "outputs": [
    {
     "name": "stdout",
     "output_type": "stream",
     "text": [
      "hakan özbek\n",
      "istanbul\n",
      "ankara \n",
      "izmir\n",
      "istanbul teknik üniversitesi\n"
     ]
    }
   ],
   "source": [
    "with open(\"bilgiler.txt\",\"r+\") as file :\n",
    "    print(file.read())"
   ]
  },
  {
   "cell_type": "code",
   "execution_count": 4,
   "metadata": {},
   "outputs": [],
   "source": [
    "with open(\"bilgiler.txt\",\"r+\") as file :\n",
    "    file.seek(10)\n",
    "    file.write(\"deneme\")"
   ]
  },
  {
   "cell_type": "code",
   "execution_count": 5,
   "metadata": {},
   "outputs": [
    {
     "name": "stdout",
     "output_type": "stream",
     "text": [
      "hakan özbedenemeanbul\n",
      "ankara \n",
      "izmir\n",
      "istanbul teknik üniversitesi\n"
     ]
    }
   ],
   "source": [
    "with open(\"bilgiler.txt\",\"r+\") as file :\n",
    "    print(file.read())"
   ]
  },
  {
   "cell_type": "code",
   "execution_count": 6,
   "metadata": {},
   "outputs": [
    {
     "name": "stdout",
     "output_type": "stream",
     "text": [
      "hakan özbek\n",
      "istanbul\n",
      "ankara \n",
      "izmir\n",
      "istanbul teknik üniversitesi\n"
     ]
    }
   ],
   "source": [
    "with open(\"bilgiler.txt\",\"r+\") as file :\n",
    "    print(file.read())"
   ]
  },
  {
   "cell_type": "code",
   "execution_count": 18,
   "metadata": {},
   "outputs": [],
   "source": [
    "with open(\"bilgiler.txt\",\"a\",encoding =\"utf-8\")  as file:\n",
    "    file.write(\"mecidiyeköy\\n\")\n",
    "    "
   ]
  },
  {
   "cell_type": "code",
   "execution_count": 19,
   "metadata": {},
   "outputs": [
    {
     "name": "stdout",
     "output_type": "stream",
     "text": [
      "hakan özbek\n",
      "istanbul\n",
      "ankara \n",
      "izmir\n",
      "istanbul teknik üniversitesi\n",
      "mecidiyekÃ¶y\n",
      "\n"
     ]
    }
   ],
   "source": [
    "with open(\"bilgiler.txt\",\"r+\") as file :\n",
    "    print(file.read())"
   ]
  },
  {
   "cell_type": "code",
   "execution_count": 24,
   "metadata": {},
   "outputs": [],
   "source": [
    "with open(\"bilgiler.txt\",\"a\",encoding =\"utf-8\")  as file:\n",
    "    file.write(\"türkiye\\n\")"
   ]
  },
  {
   "cell_type": "code",
   "execution_count": 26,
   "metadata": {},
   "outputs": [
    {
     "name": "stdout",
     "output_type": "stream",
     "text": [
      "hakan özbek\n",
      "istanbul\n",
      "ankara \n",
      "izmir\n",
      "istanbul teknik üniversitesi\n",
      "mecidiyekÃ¶y\n",
      "tÃ¼rkiye\n",
      "\n"
     ]
    }
   ],
   "source": [
    "with open(\"bilgiler.txt\",\"r+\") as file :\n",
    "    print(file.read())"
   ]
  },
  {
   "cell_type": "code",
   "execution_count": 27,
   "metadata": {},
   "outputs": [
    {
     "name": "stdout",
     "output_type": "stream",
     "text": [
      "hakan özbek\n",
      "istanbul\n",
      "ankara \n",
      "izmir\n",
      "istanbul teknik üniversitesi\n",
      "mecidiyekÃ¶y\n",
      "tÃ¼rkiye\n",
      "\n"
     ]
    }
   ],
   "source": [
    "with open(\"bilgiler.txt\",\"r+\") as file :\n",
    "    print(file.read())"
   ]
  },
  {
   "cell_type": "code",
   "execution_count": 30,
   "metadata": {},
   "outputs": [],
   "source": [
    "with open(\"bilgiler.txt\",\"r+\") as file :\n",
    "    içerik=file.read()\n",
    "    içerik = \"başlık\\n\"+içerik\n",
    "    file.seek(0)\n",
    "    file.write(içerik)"
   ]
  },
  {
   "cell_type": "code",
   "execution_count": 31,
   "metadata": {},
   "outputs": [
    {
     "name": "stdout",
     "output_type": "stream",
     "text": [
      "başlık\n",
      "hakan özbek\n",
      "istanbul\n",
      "ankara \n",
      "izmir\n",
      "istanbul teknik üniversitesi\n",
      "mecidiyekÃ¶y\n",
      "tÃ¼rkiye\n",
      "\n"
     ]
    }
   ],
   "source": [
    "with open(\"bilgiler.txt\",\"r+\") as file :\n",
    "    print(file.read())"
   ]
  },
  {
   "cell_type": "code",
   "execution_count": 32,
   "metadata": {},
   "outputs": [],
   "source": [
    "with open(\"bilgiler.txt\",\"r+\") as file :\n",
    "    liste=file.readlines()\n",
    "    liste.insert(3,\"berk\\n\")\n",
    "    file.seek(0)\n",
    "    file.writelines(liste)"
   ]
  },
  {
   "cell_type": "code",
   "execution_count": 33,
   "metadata": {},
   "outputs": [
    {
     "name": "stdout",
     "output_type": "stream",
     "text": [
      "başlık\n",
      "hakan özbek\n",
      "istanbul\n",
      "berk\n",
      "ankara \n",
      "izmir\n",
      "istanbul teknik üniversitesi\n",
      "mecidiyekÃ¶y\n",
      "tÃ¼rkiye\n",
      "\n"
     ]
    }
   ],
   "source": [
    "with open(\"bilgiler.txt\",\"r+\") as file :\n",
    "    print(file.read())"
   ]
  },
  {
   "cell_type": "code",
   "execution_count": null,
   "metadata": {},
   "outputs": [],
   "source": []
  }
 ],
 "metadata": {
  "kernelspec": {
   "display_name": "Python 3",
   "language": "python",
   "name": "python3"
  },
  "language_info": {
   "codemirror_mode": {
    "name": "ipython",
    "version": 3
   },
   "file_extension": ".py",
   "mimetype": "text/x-python",
   "name": "python",
   "nbconvert_exporter": "python",
   "pygments_lexer": "ipython3",
   "version": "3.7.3"
  }
 },
 "nbformat": 4,
 "nbformat_minor": 2
}
