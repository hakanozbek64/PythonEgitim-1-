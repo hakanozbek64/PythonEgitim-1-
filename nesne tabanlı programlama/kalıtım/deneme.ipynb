{
 "cells": [
  {
   "cell_type": "code",
   "execution_count": 5,
   "metadata": {},
   "outputs": [],
   "source": [
    "class çalışan():\n",
    "    \n",
    "    def __init__(self,isim,maaş,departman):\n",
    "        print(\"çalışan sınıfının init fonksiyonu\")\n",
    "        \n",
    "        self.isim=isim\n",
    "        self.maaş=maaş\n",
    "        self.departman=departman\n",
    "    def bilgilerigöster(self):\n",
    "        print(\"çalışan sınıfının bilgileri\")\n",
    "        \n",
    "        print(\"isim :{}\\nmaaş:{}\\ndepartman:{}\\n\".format(self.isim,self.maaş,self.departman))\n",
    "        \n",
    "    def departman_degiştir(self,yeni_departman):\n",
    "        self.departman=yeni_departman"
   ]
  },
  {
   "cell_type": "code",
   "execution_count": 6,
   "metadata": {},
   "outputs": [],
   "source": [
    "class Yönetici(çalışan):\n",
    "    pass"
   ]
  },
  {
   "cell_type": "code",
   "execution_count": 7,
   "metadata": {},
   "outputs": [
    {
     "name": "stdout",
     "output_type": "stream",
     "text": [
      "çalışan sınıfının init fonksiyonu\n"
     ]
    }
   ],
   "source": [
    "yönetici=Yönetici(\"Hakan özbek\",4000,\"bilişim\")"
   ]
  },
  {
   "cell_type": "code",
   "execution_count": 8,
   "metadata": {},
   "outputs": [
    {
     "name": "stdout",
     "output_type": "stream",
     "text": [
      "çalışan sınıfının bilgileri\n",
      "isim :Hakan özbek\n",
      "maaş:4000\n",
      "departman:bilişim\n",
      "\n"
     ]
    }
   ],
   "source": [
    "yönetici.bilgilerigöster()"
   ]
  },
  {
   "cell_type": "code",
   "execution_count": 9,
   "metadata": {},
   "outputs": [],
   "source": [
    "yönetici.departman_degiştir(\"insan kaynakları\")"
   ]
  },
  {
   "cell_type": "code",
   "execution_count": 10,
   "metadata": {},
   "outputs": [
    {
     "name": "stdout",
     "output_type": "stream",
     "text": [
      "çalışan sınıfının bilgileri\n",
      "isim :Hakan özbek\n",
      "maaş:4000\n",
      "departman:insan kaynakları\n",
      "\n"
     ]
    }
   ],
   "source": [
    "yönetici.bilgilerigöster()"
   ]
  },
  {
   "cell_type": "code",
   "execution_count": 11,
   "metadata": {},
   "outputs": [],
   "source": [
    "class Yönetici(çalışan):\n",
    "    def zam_yap(self,zam_miktarı):\n",
    "        self.maaş+=zam_miktarı\n"
   ]
  },
  {
   "cell_type": "code",
   "execution_count": 13,
   "metadata": {},
   "outputs": [
    {
     "name": "stdout",
     "output_type": "stream",
     "text": [
      "çalışan sınıfının init fonksiyonu\n"
     ]
    }
   ],
   "source": [
    "yönetici=Yönetici(\"hakan özbek\",3500,\"pazarlama\")"
   ]
  },
  {
   "cell_type": "code",
   "execution_count": 14,
   "metadata": {},
   "outputs": [],
   "source": [
    "yönetici.zam_yap(700)"
   ]
  },
  {
   "cell_type": "code",
   "execution_count": 15,
   "metadata": {},
   "outputs": [
    {
     "name": "stdout",
     "output_type": "stream",
     "text": [
      "çalışan sınıfının bilgileri\n",
      "isim :hakan özbek\n",
      "maaş:4200\n",
      "departman:pazarlama\n",
      "\n"
     ]
    }
   ],
   "source": [
    "yönetici.bilgilerigöster()"
   ]
  },
  {
   "cell_type": "code",
   "execution_count": 26,
   "metadata": {},
   "outputs": [],
   "source": [
    "#overriding#\n",
    "class çalışan():\n",
    "    \n",
    "    def __init__(self,isim,maaş,departman):\n",
    "        print(\"çalışan sınıfının init fonksiyonu\")\n",
    "        \n",
    "        self.isim=isim\n",
    "        self.maaş=maaş\n",
    "        self.departman=departman\n",
    "    def bilgilerigöster(self):\n",
    "        print(\"çalışan sınıfının bilgileri\")\n",
    "        \n",
    "        print(\"isim :{}\\nmaaş:{}\\ndepartman:{}\\n\".format(self.isim,self.maaş,self.departman))\n",
    "        \n",
    "    def departman_degiştir(self,yeni_departman):\n",
    "        self.departman=yeni_departman\n"
   ]
  },
  {
   "cell_type": "code",
   "execution_count": 27,
   "metadata": {},
   "outputs": [],
   "source": [
    "class Yönetici(çalışan):\n",
    "    def __init__(self,isim,maaş,departman,kişi_sayısı):\n",
    "        \n",
    "        print(\"yönetici sınıfının init fonksiyonu\")\n",
    "        \n",
    "        self.isim=isim\n",
    "        self.maaş=maaş\n",
    "        self.departman=departman\n",
    "        self.kişi_sayısı=kişi_sayısı\n",
    "    def bilgilerigöster(self):\n",
    "        print(\"yönetici sınıfının bilgileri\")\n",
    "        \n",
    "        print(\"isim :{}\\nmaaş:{}\\ndepartman:{}\\nsorumlu kişi sayısı:{}\".format(self.isim,self.maaş,self.departman,self.kişi_sayısı))\n",
    "    \n",
    "    def zam_yap(self,zam_miktarı):   \n",
    "        self.maaş+=zam_miktarı"
   ]
  },
  {
   "cell_type": "code",
   "execution_count": 28,
   "metadata": {},
   "outputs": [
    {
     "name": "stdout",
     "output_type": "stream",
     "text": [
      "yönetici sınıfının init fonksiyonu\n"
     ]
    }
   ],
   "source": [
    "yönetici=Yönetici(\"hakan özbek\",3500,\"pazarlama\",10)"
   ]
  },
  {
   "cell_type": "code",
   "execution_count": 29,
   "metadata": {},
   "outputs": [
    {
     "name": "stdout",
     "output_type": "stream",
     "text": [
      "yönetici sınıfının bilgileri\n",
      "isim :hakan özbek\n",
      "maaş:3500\n",
      "departman:pazarlama\n",
      "sorumlu kişi sayısı:10\n"
     ]
    }
   ],
   "source": [
    "yönetici.bilgilerigöster()"
   ]
  },
  {
   "cell_type": "code",
   "execution_count": 34,
   "metadata": {},
   "outputs": [],
   "source": [
    "#super #\n",
    "\n",
    "class çalışan():\n",
    "    \n",
    "    def __init__(self,isim,maaş,departman):\n",
    "        print(\"çalışan sınıfının init fonksiyonu\")\n",
    "        \n",
    "        self.isim=isim\n",
    "        self.maaş=maaş\n",
    "        self.departman=departman\n",
    "    def bilgilerigöster(self):\n",
    "        print(\"çalışan sınıfının bilgileri\")\n",
    "        \n",
    "        print(\"isim :{}\\nmaaş:{}\\ndepartman:{}\\n\".format(self.isim,self.maaş,self.departman))\n",
    "        \n",
    "    def departman_degiştir(self,yeni_departman):\n",
    "        self.departman=yeni_departman"
   ]
  },
  {
   "cell_type": "code",
   "execution_count": 36,
   "metadata": {},
   "outputs": [],
   "source": [
    "class Yönetici(çalışan):\n",
    "    def __init__(self,isim,maaş,departman,kişi_sayısı):\n",
    "        \n",
    "        super(). __init__(isim,maaş,departman)\n",
    "        \n",
    "        print(\"yönetici sınıfının init fonksiyonu\")\n",
    "        \n",
    "       \n",
    "        self.kişi_sayısı=kişi_sayısı\n",
    "    def bilgilerigöster(self):\n",
    "        print(\"yönetici sınıfının bilgileri\")\n",
    "        \n",
    "        print(\"isim :{}\\nmaaş:{}\\ndepartman:{}\\nsorumlu kişi sayısı:{}\".format(self.isim,self.maaş,self.departman,self.kişi_sayısı))\n",
    "    \n",
    "    def zam_yap(self,zam_miktarı):   \n",
    "        self.maaş+=zam_miktarı"
   ]
  },
  {
   "cell_type": "code",
   "execution_count": 37,
   "metadata": {},
   "outputs": [
    {
     "name": "stdout",
     "output_type": "stream",
     "text": [
      "çalışan sınıfının init fonksiyonu\n",
      "yönetici sınıfının init fonksiyonu\n"
     ]
    }
   ],
   "source": [
    "yönetici=Yönetici(\"berk hakan\",5000,\"yazılım\",8)"
   ]
  },
  {
   "cell_type": "code",
   "execution_count": 38,
   "metadata": {},
   "outputs": [
    {
     "name": "stdout",
     "output_type": "stream",
     "text": [
      "yönetici sınıfının bilgileri\n",
      "isim :berk hakan\n",
      "maaş:5000\n",
      "departman:yazılım\n",
      "sorumlu kişi sayısı:8\n"
     ]
    }
   ],
   "source": [
    "yönetici.bilgilerigöster()"
   ]
  },
  {
   "cell_type": "code",
   "execution_count": null,
   "metadata": {},
   "outputs": [],
   "source": []
  }
 ],
 "metadata": {
  "kernelspec": {
   "display_name": "Python 3",
   "language": "python",
   "name": "python3"
  },
  "language_info": {
   "codemirror_mode": {
    "name": "ipython",
    "version": 3
   },
   "file_extension": ".py",
   "mimetype": "text/x-python",
   "name": "python",
   "nbconvert_exporter": "python",
   "pygments_lexer": "ipython3",
   "version": "3.7.3"
  }
 },
 "nbformat": 4,
 "nbformat_minor": 2
}
