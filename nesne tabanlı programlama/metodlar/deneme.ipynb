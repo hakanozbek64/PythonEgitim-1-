{
 "cells": [
  {
   "cell_type": "code",
   "execution_count": 27,
   "metadata": {},
   "outputs": [],
   "source": [
    "class Yazılımcı():\n",
    "    def __init__(self,isim,soyisim,numara,maaş,diller):\n",
    "        self.isim=isim\n",
    "        self.soyisim=soyisim\n",
    "        self.numara=numara\n",
    "        self.maaş=maaş\n",
    "        self.diller=diller\n",
    "    def bilgilerigöster(self):\n",
    "        print(\"\"\"\n",
    "        yazılımcı objesinin özellikleri\n",
    "        \n",
    "        isim : {}\n",
    "        soyisim : {}\n",
    "        numara : {}\n",
    "        maaş : {}\n",
    "        diller : {}\n",
    "        \n",
    "        \n",
    "        \n",
    "        \n",
    "        \n",
    "       \"\"\".format(self.isim,self.soyisim,self.numara,self.maaş,self.diller))\n",
    "    def zam_yap(self,zam_miktarı):\n",
    "        print(\"zam yapılıyor...\")\n",
    "        self.maaş+=zam_miktarı\n",
    "    def dil_ekle(self,yeni_dil):\n",
    "        print(\"dil ekleniyor..\")\n",
    "        self.diller.append(yeni_dil)"
   ]
  },
  {
   "cell_type": "code",
   "execution_count": 28,
   "metadata": {},
   "outputs": [
    {
     "data": {
      "text/plain": [
       "<__main__.Yazılımcı at 0x72c4f98>"
      ]
     },
     "execution_count": 28,
     "metadata": {},
     "output_type": "execute_result"
    }
   ],
   "source": [
    "yazılımcı = Yazılımcı(\"hakan\",\"özbek\",672,4000,[\"python\",\"c\",\"java\"])\n",
    "\n",
    "yazılımcı"
   ]
  },
  {
   "cell_type": "code",
   "execution_count": 29,
   "metadata": {
    "scrolled": true
   },
   "outputs": [
    {
     "name": "stdout",
     "output_type": "stream",
     "text": [
      "\n",
      "        yazılımcı objesinin özellikleri\n",
      "        \n",
      "        isim : hakan\n",
      "        soyisim : özbek\n",
      "        numara : 672\n",
      "        maaş : 4000\n",
      "        diller : ['python', 'c', 'java']\n",
      "        \n",
      "        \n",
      "        \n",
      "        \n",
      "        \n",
      "       \n"
     ]
    }
   ],
   "source": [
    "yazılımcı.bilgilerigöster()"
   ]
  },
  {
   "cell_type": "code",
   "execution_count": 30,
   "metadata": {},
   "outputs": [
    {
     "name": "stdout",
     "output_type": "stream",
     "text": [
      "dil ekleniyor..\n"
     ]
    }
   ],
   "source": [
    "yazılımcı.dil_ekle(\"php\")"
   ]
  },
  {
   "cell_type": "code",
   "execution_count": 31,
   "metadata": {},
   "outputs": [
    {
     "name": "stdout",
     "output_type": "stream",
     "text": [
      "\n",
      "        yazılımcı objesinin özellikleri\n",
      "        \n",
      "        isim : hakan\n",
      "        soyisim : özbek\n",
      "        numara : 672\n",
      "        maaş : 4000\n",
      "        diller : ['python', 'c', 'java', 'php']\n",
      "        \n",
      "        \n",
      "        \n",
      "        \n",
      "        \n",
      "       \n"
     ]
    }
   ],
   "source": [
    "yazılımcı.bilgilerigöster()"
   ]
  },
  {
   "cell_type": "code",
   "execution_count": 32,
   "metadata": {},
   "outputs": [
    {
     "name": "stdout",
     "output_type": "stream",
     "text": [
      "zam yapılıyor...\n"
     ]
    }
   ],
   "source": [
    "yazılımcı.zam_yap(700)"
   ]
  },
  {
   "cell_type": "code",
   "execution_count": 33,
   "metadata": {},
   "outputs": [
    {
     "name": "stdout",
     "output_type": "stream",
     "text": [
      "\n",
      "        yazılımcı objesinin özellikleri\n",
      "        \n",
      "        isim : hakan\n",
      "        soyisim : özbek\n",
      "        numara : 672\n",
      "        maaş : 4700\n",
      "        diller : ['python', 'c', 'java', 'php']\n",
      "        \n",
      "        \n",
      "        \n",
      "        \n",
      "        \n",
      "       \n"
     ]
    }
   ],
   "source": [
    "yazılımcı.bilgilerigöster()"
   ]
  },
  {
   "cell_type": "code",
   "execution_count": null,
   "metadata": {},
   "outputs": [],
   "source": []
  }
 ],
 "metadata": {
  "kernelspec": {
   "display_name": "Python 3",
   "language": "python",
   "name": "python3"
  },
  "language_info": {
   "codemirror_mode": {
    "name": "ipython",
    "version": 3
   },
   "file_extension": ".py",
   "mimetype": "text/x-python",
   "name": "python",
   "nbconvert_exporter": "python",
   "pygments_lexer": "ipython3",
   "version": "3.7.3"
  }
 },
 "nbformat": 4,
 "nbformat_minor": 2
}
