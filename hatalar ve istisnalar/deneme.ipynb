{
 "cells": [
  {
   "cell_type": "code",
   "execution_count": 1,
   "metadata": {},
   "outputs": [
    {
     "ename": "ValueError",
     "evalue": "invalid literal for int() with base 10: '1222222222hjhfsdf'",
     "output_type": "error",
     "traceback": [
      "\u001b[1;31m---------------------------------------------------------------------------\u001b[0m",
      "\u001b[1;31mValueError\u001b[0m                                Traceback (most recent call last)",
      "\u001b[1;32m<ipython-input-1-a6f405e1fdd4>\u001b[0m in \u001b[0;36m<module>\u001b[1;34m\u001b[0m\n\u001b[1;32m----> 1\u001b[1;33m \u001b[0ma\u001b[0m\u001b[1;33m=\u001b[0m\u001b[0mint\u001b[0m\u001b[1;33m(\u001b[0m\u001b[1;34m\"1222222222hjhfsdf\"\u001b[0m\u001b[1;33m)\u001b[0m\u001b[1;33m\u001b[0m\u001b[1;33m\u001b[0m\u001b[0m\n\u001b[0m",
      "\u001b[1;31mValueError\u001b[0m: invalid literal for int() with base 10: '1222222222hjhfsdf'"
     ]
    }
   ],
   "source": [
    "a=int(\"1222222222hjhfsdf\")"
   ]
  },
  {
   "cell_type": "code",
   "execution_count": 2,
   "metadata": {},
   "outputs": [
    {
     "name": "stdout",
     "output_type": "stream",
     "text": [
      "bir hata oluştu..\n",
      "bloklar sona erdi.!\n"
     ]
    }
   ],
   "source": [
    "try:\n",
    "    a=int(\"dfdgsfgg122222\")\n",
    "    print(\"program burada\")\n",
    "except:\n",
    "    print(\"bir hata oluştu..\")\n",
    "print(\"bloklar sona erdi.!\")"
   ]
  },
  {
   "cell_type": "code",
   "execution_count": 3,
   "metadata": {},
   "outputs": [
    {
     "name": "stdout",
     "output_type": "stream",
     "text": [
      "sayı1:12\n",
      "sayı2:0\n",
      "bir sayı 0'a bölünemez.\n",
      "bloklar sona erdi.!\n"
     ]
    }
   ],
   "source": [
    "try:\n",
    "    a=int(input(\"sayı1:\"))\n",
    "    b=int(input(\"sayı2:\"))\n",
    "    print(a/b)\n",
    "except ValueError:\n",
    "    print(\"litfen inputu dogru giriniz\")\n",
    "except ZeroDivisionError:\n",
    "    print(\"bir sayı 0'a bölünemez.\")\n",
    "print(\"bloklar sona erdi.!\")\n",
    "    "
   ]
  },
  {
   "cell_type": "code",
   "execution_count": 4,
   "metadata": {},
   "outputs": [
    {
     "name": "stdout",
     "output_type": "stream",
     "text": [
      "sayı1:12iiiiiiii\n",
      "litfen inputu dogru giriniz\n",
      "bloklar sona erdi.!\n"
     ]
    }
   ],
   "source": [
    "try:\n",
    "    a=int(input(\"sayı1:\"))\n",
    "    b=int(input(\"sayı2:\"))\n",
    "    print(a/b)\n",
    "except ValueError:\n",
    "    print(\"litfen inputu dogru giriniz\")\n",
    "except ZeroDivisionError:\n",
    "    print(\"bir sayı 0'a bölünemez.\")\n",
    "print(\"bloklar sona erdi.!\")"
   ]
  },
  {
   "cell_type": "code",
   "execution_count": 5,
   "metadata": {},
   "outputs": [
    {
     "name": "stdout",
     "output_type": "stream",
     "text": [
      "sayı1:12\n",
      "sayı2:4\n",
      "3.0\n",
      "burası çalıştı\n",
      "bloklar sona erdi.!\n"
     ]
    }
   ],
   "source": [
    "try:\n",
    "    a=int(input(\"sayı1:\"))\n",
    "    b=int(input(\"sayı2:\"))\n",
    "    print(a/b)\n",
    "except ValueError:\n",
    "    print(\"litfen inputu dogru giriniz\")\n",
    "except ZeroDivisionError:\n",
    "    print(\"bir sayı 0'a bölünemez.\")\n",
    "finally:\n",
    "    print(\"burası çalıştı\")\n",
    "print(\"bloklar sona erdi.!\")"
   ]
  },
  {
   "cell_type": "code",
   "execution_count": 6,
   "metadata": {},
   "outputs": [
    {
     "name": "stdout",
     "output_type": "stream",
     "text": [
      "sayı1:12\n",
      "sayı2:0\n",
      "bir sayı 0'a bölünemez.\n",
      "burası çalıştı\n",
      "bloklar sona erdi.!\n"
     ]
    }
   ],
   "source": [
    "try:\n",
    "    a=int(input(\"sayı1:\"))\n",
    "    b=int(input(\"sayı2:\"))\n",
    "    print(a/b)\n",
    "except ValueError:\n",
    "    print(\"litfen inputu dogru giriniz\")\n",
    "except ZeroDivisionError:\n",
    "    print(\"bir sayı 0'a bölünemez.\")\n",
    "finally:\n",
    "    print(\"burası çalıştı\")\n",
    "print(\"bloklar sona erdi.!\")"
   ]
  },
  {
   "cell_type": "code",
   "execution_count": 7,
   "metadata": {},
   "outputs": [],
   "source": [
    "#hata fırlatmak raise#\n",
    "\n",
    "def terscevir(s):\n",
    "    if(type(s) !=str):\n",
    "        raise ValueError(\"lütfen string bir deger giriniz..\")\n",
    "    else:\n",
    "        return s[::-1]"
   ]
  },
  {
   "cell_type": "code",
   "execution_count": 8,
   "metadata": {},
   "outputs": [
    {
     "name": "stdout",
     "output_type": "stream",
     "text": [
      "nohtyp\n"
     ]
    }
   ],
   "source": [
    "print(terscevir(\"python\"))"
   ]
  },
  {
   "cell_type": "code",
   "execution_count": 9,
   "metadata": {
    "scrolled": true
   },
   "outputs": [
    {
     "ename": "ValueError",
     "evalue": "lütfen string bir deger giriniz..",
     "output_type": "error",
     "traceback": [
      "\u001b[1;31m---------------------------------------------------------------------------\u001b[0m",
      "\u001b[1;31mValueError\u001b[0m                                Traceback (most recent call last)",
      "\u001b[1;32m<ipython-input-9-ef0dc6dae4a5>\u001b[0m in \u001b[0;36m<module>\u001b[1;34m\u001b[0m\n\u001b[1;32m----> 1\u001b[1;33m \u001b[0mprint\u001b[0m\u001b[1;33m(\u001b[0m\u001b[0mterscevir\u001b[0m\u001b[1;33m(\u001b[0m\u001b[1;36m12\u001b[0m\u001b[1;33m)\u001b[0m\u001b[1;33m)\u001b[0m\u001b[1;33m\u001b[0m\u001b[1;33m\u001b[0m\u001b[0m\n\u001b[0m",
      "\u001b[1;32m<ipython-input-7-ec653fc0f846>\u001b[0m in \u001b[0;36mterscevir\u001b[1;34m(s)\u001b[0m\n\u001b[0;32m      3\u001b[0m \u001b[1;32mdef\u001b[0m \u001b[0mterscevir\u001b[0m\u001b[1;33m(\u001b[0m\u001b[0ms\u001b[0m\u001b[1;33m)\u001b[0m\u001b[1;33m:\u001b[0m\u001b[1;33m\u001b[0m\u001b[1;33m\u001b[0m\u001b[0m\n\u001b[0;32m      4\u001b[0m     \u001b[1;32mif\u001b[0m\u001b[1;33m(\u001b[0m\u001b[0mtype\u001b[0m\u001b[1;33m(\u001b[0m\u001b[0ms\u001b[0m\u001b[1;33m)\u001b[0m \u001b[1;33m!=\u001b[0m\u001b[0mstr\u001b[0m\u001b[1;33m)\u001b[0m\u001b[1;33m:\u001b[0m\u001b[1;33m\u001b[0m\u001b[1;33m\u001b[0m\u001b[0m\n\u001b[1;32m----> 5\u001b[1;33m         \u001b[1;32mraise\u001b[0m \u001b[0mValueError\u001b[0m\u001b[1;33m(\u001b[0m\u001b[1;34m\"lütfen string bir deger giriniz..\"\u001b[0m\u001b[1;33m)\u001b[0m\u001b[1;33m\u001b[0m\u001b[1;33m\u001b[0m\u001b[0m\n\u001b[0m\u001b[0;32m      6\u001b[0m     \u001b[1;32melse\u001b[0m\u001b[1;33m:\u001b[0m\u001b[1;33m\u001b[0m\u001b[1;33m\u001b[0m\u001b[0m\n\u001b[0;32m      7\u001b[0m         \u001b[1;32mreturn\u001b[0m \u001b[0ms\u001b[0m\u001b[1;33m[\u001b[0m\u001b[1;33m:\u001b[0m\u001b[1;33m:\u001b[0m\u001b[1;33m-\u001b[0m\u001b[1;36m1\u001b[0m\u001b[1;33m]\u001b[0m\u001b[1;33m\u001b[0m\u001b[1;33m\u001b[0m\u001b[0m\n",
      "\u001b[1;31mValueError\u001b[0m: lütfen string bir deger giriniz.."
     ]
    }
   ],
   "source": [
    "print(terscevir(12))"
   ]
  },
  {
   "cell_type": "code",
   "execution_count": 10,
   "metadata": {},
   "outputs": [
    {
     "name": "stdout",
     "output_type": "stream",
     "text": [
      "fonksiyon hata verdi..\n"
     ]
    }
   ],
   "source": [
    "try:\n",
    "    print(terscevir(12))\n",
    "except ValueError:\n",
    "    print(\"fonksiyon hata verdi..\")"
   ]
  },
  {
   "cell_type": "code",
   "execution_count": null,
   "metadata": {},
   "outputs": [],
   "source": []
  }
 ],
 "metadata": {
  "kernelspec": {
   "display_name": "Python 3",
   "language": "python",
   "name": "python3"
  },
  "language_info": {
   "codemirror_mode": {
    "name": "ipython",
    "version": 3
   },
   "file_extension": ".py",
   "mimetype": "text/x-python",
   "name": "python",
   "nbconvert_exporter": "python",
   "pygments_lexer": "ipython3",
   "version": "3.7.3"
  }
 },
 "nbformat": 4,
 "nbformat_minor": 2
}
